{
 "cells": [
  {
   "cell_type": "code",
   "execution_count": 10,
   "metadata": {},
   "outputs": [],
   "source": [
    "import import_ipynb\n",
    "import unittest\n",
    "from unittest import TestCase \n",
    "from stringcalculator import*\n"
   ]
  },
  {
   "cell_type": "code",
   "execution_count": 45,
   "metadata": {},
   "outputs": [
    {
     "name": "stderr",
     "output_type": "stream",
     "text": [
      ".............\n",
      "----------------------------------------------------------------------\n",
      "Ran 13 tests in 0.013s\n",
      "\n",
      "OK\n"
     ]
    }
   ],
   "source": [
    "\n",
    "#1. Create a simple String calculator with a method signature:\n",
    "class teststringcalculator(unittest.TestCase):\n",
    "    def test_add_for_an_empty_string(self):\n",
    "        self.assertEqual(add(\"\"), 0)\n",
    "# tests for when the result is a single number\n",
    "    def test_add_when_result_is_a_single_number(self):\n",
    "        self.assertEqual(add(\"1\"), 1)\n",
    "        \n",
    "        self.assertEqual(add(\"7\"), 7)\n",
    "\n",
    "        self.assertEqual(add(\"0\"), 0)\n",
    "\n",
    "        self.assertEqual(add(\"123\"), 123)\n",
    "#test when using a comma as a delimiter\n",
    "    def test_add_comma_separated_numbers(self):\n",
    "        self.assertEqual(add(\"9,4\"), 13)\n",
    "\n",
    "#2. Allow the Add method to handle an unknown amount of numbers\n",
    "\n",
    "    def test_unknown_amount_of_numbers(self):\n",
    "        self.assertEqual(add(\"5,9\", \"5,9\"), 28)\n",
    "        self.assertEqual(add(\"10,20\", \"40,50\", \"\"), 120)\n",
    "        self.assertEqual(add(\"100,250\", \"200,5\"), 555)\n",
    "\n",
    "#3. Allow the Add method to handle new lines between numbers (instead of commas).“1\\n2,3” = 6\n",
    "    def test_new_line_delimiter(self):\n",
    "        self.assertEqual(add(\"1\\n2,3\"), 6)\n",
    "        self.assertEqual(add(\"18\\n43,100\"), 161)\n",
    "        \n",
    "#4. Support different delimiters   “//;\\n1;2” = 3 wher delimiter = \";\" \n",
    "    def test_add_with_different_delimiters(self):\n",
    "        self.assertEqual(add(\"//;\\n1;2\"), 3)\n",
    "        self.assertEqual(add(\"//;\\n300;3\"), 303)\n",
    "        \n",
    "#5. Calling Add with a negative number will throw an exception\n",
    "    #def test_add_with_negative_numbers(self):\n",
    "        #self.assertRaises(add(\"-\"), \"negatives not allowed: {}\")\n",
    "        \n",
    "    def test_adding_negative_numbers__returns_exception_message_with_negative_numbers(self):\n",
    "        self.assertRaises(Exception,\"negatives not allowed\")\n",
    "\n",
    "\n",
    "if __name__ == '__main__':\n",
    "  unittest.main(argv=['first-arg-is-ignored'], exit=False)"
   ]
  },
  {
   "cell_type": "code",
   "execution_count": null,
   "metadata": {},
   "outputs": [],
   "source": []
  },
  {
   "cell_type": "code",
   "execution_count": null,
   "metadata": {},
   "outputs": [],
   "source": []
  }
 ],
 "metadata": {
  "kernelspec": {
   "display_name": "Python 3",
   "language": "python",
   "name": "python3"
  },
  "language_info": {
   "codemirror_mode": {
    "name": "ipython",
    "version": 3
   },
   "file_extension": ".py",
   "mimetype": "text/x-python",
   "name": "python",
   "nbconvert_exporter": "python",
   "pygments_lexer": "ipython3",
   "version": "3.7.3"
  }
 },
 "nbformat": 4,
 "nbformat_minor": 2
}
