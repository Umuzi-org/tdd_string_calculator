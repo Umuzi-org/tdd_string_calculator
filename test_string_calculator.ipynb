{
 "cells": [
  {
   "cell_type": "code",
   "execution_count": 2,
   "metadata": {},
   "outputs": [
    {
     "name": "stdout",
     "output_type": "stream",
     "text": [
      "importing Jupyter notebook from string_calculator.ipynb\n"
     ]
    }
   ],
   "source": [
    "import import_ipynb\n",
    "import unittest\n",
    "from unittest import TestCase \n",
    "from string_calculator import* #no module named stringcalculator\n"
   ]
  },
  {
   "cell_type": "code",
   "execution_count": 3,
   "metadata": {},
   "outputs": [
    {
     "name": "stderr",
     "output_type": "stream",
     "text": [
      "EEEE.EE\n",
      "======================================================================\n",
      "ERROR: test_add_comma_separated_numbers (__main__.teststringcalculator)\n",
      "----------------------------------------------------------------------\n",
      "Traceback (most recent call last):\n",
      "  File \"<ipython-input-3-a095596fa418>\", line 17, in test_add_comma_separated_numbers\n",
      "    self.assertEqual(add(\"9,4\"), 13)\n",
      "  File \"<string>\", line 25, in add\n",
      "NameError: name 'Delimiter' is not defined\n",
      "\n",
      "======================================================================\n",
      "ERROR: test_add_for_an_empty_string (__main__.teststringcalculator)\n",
      "----------------------------------------------------------------------\n",
      "Traceback (most recent call last):\n",
      "  File \"<ipython-input-3-a095596fa418>\", line 5, in test_add_for_an_empty_string\n",
      "    self.assertEqual(add(\"\"), 0)\n",
      "  File \"<string>\", line 26, in add\n",
      "NameError: name 'negative' is not defined\n",
      "\n",
      "======================================================================\n",
      "ERROR: test_add_when_result_is_a_single_number (__main__.teststringcalculator)\n",
      "----------------------------------------------------------------------\n",
      "Traceback (most recent call last):\n",
      "  File \"<ipython-input-3-a095596fa418>\", line 8, in test_add_when_result_is_a_single_number\n",
      "    self.assertEqual(add(\"1\"), 1)\n",
      "  File \"<string>\", line 25, in add\n",
      "NameError: name 'Delimiter' is not defined\n",
      "\n",
      "======================================================================\n",
      "ERROR: test_add_with_different_delimiters (__main__.teststringcalculator)\n",
      "----------------------------------------------------------------------\n",
      "Traceback (most recent call last):\n",
      "  File \"<ipython-input-3-a095596fa418>\", line 33, in test_add_with_different_delimiters\n",
      "    self.assertEqual(add(\"//;\\n1;2\"), 3)\n",
      "  File \"<string>\", line 25, in add\n",
      "NameError: name 'Delimiter' is not defined\n",
      "\n",
      "======================================================================\n",
      "ERROR: test_new_line_delimiter (__main__.teststringcalculator)\n",
      "----------------------------------------------------------------------\n",
      "Traceback (most recent call last):\n",
      "  File \"<ipython-input-3-a095596fa418>\", line 28, in test_new_line_delimiter\n",
      "    self.assertEqual(add(\"1\\n2,3\"), 6)\n",
      "  File \"<string>\", line 25, in add\n",
      "NameError: name 'Delimiter' is not defined\n",
      "\n",
      "======================================================================\n",
      "ERROR: test_unknown_amount_of_numbers (__main__.teststringcalculator)\n",
      "----------------------------------------------------------------------\n",
      "Traceback (most recent call last):\n",
      "  File \"<ipython-input-3-a095596fa418>\", line 22, in test_unknown_amount_of_numbers\n",
      "    self.assertEqual(add(\"5,9\", \"5,9\"), 28)\n",
      "  File \"<string>\", line 25, in add\n",
      "NameError: name 'Delimiter' is not defined\n",
      "\n",
      "----------------------------------------------------------------------\n",
      "Ran 7 tests in 0.011s\n",
      "\n",
      "FAILED (errors=6)\n"
     ]
    }
   ],
   "source": [
    "\n",
    "#1. Create a simple String calculator with a method signature:\n",
    "class teststringcalculator(unittest.TestCase):\n",
    "    def test_add_for_an_empty_string(self):\n",
    "        self.assertEqual(add(\"\"), 0)\n",
    "# tests for when the result is a single number\n",
    "    def test_add_when_result_is_a_single_number(self):\n",
    "        self.assertEqual(add(\"1\"), 1)\n",
    "        \n",
    "        self.assertEqual(add(\"7\"), 7)\n",
    "\n",
    "        self.assertEqual(add(\"0\"), 0)\n",
    "\n",
    "        self.assertEqual(add(\"123\"), 123)\n",
    "               \n",
    "#test when using a comma as a delimiter\n",
    "    def test_add_comma_separated_numbers(self):\n",
    "        self.assertEqual(add(\"9,4\"), 13)\n",
    "\n",
    "#2. Allow the Add method to handle an unknown amount of numbers\n",
    "\n",
    "    def test_unknown_amount_of_numbers(self):\n",
    "        self.assertEqual(add(\"5,9\", \"5,9\"), 28)\n",
    "        self.assertEqual(add(\"10,20\", \"40,50\", \"\"), 120)\n",
    "        self.assertEqual(add(\"100,250\", \"200,5\"), 555)\n",
    "\n",
    "#3. Allow the Add method to handle new lines between numbers (instead of commas).“1\\n2,3” = 6\n",
    "    def test_new_line_delimiter(self):\n",
    "        self.assertEqual(add(\"1\\n2,3\"), 6)\n",
    "        self.assertEqual(add(\"18\\n43,100\"), 161)\n",
    "        \n",
    "#4. Support different delimiters   “//;\\n1;2” = 3 wher delimiter = \";\" \n",
    "    def test_add_with_different_delimiters(self):\n",
    "        self.assertEqual(add(\"//;\\n1;2\"), 3)\n",
    "        self.assertEqual(add(\"//;\\n300;3\"), 303)\n",
    "        \n",
    "#5. Calling Add with a negative number will throw an exception\n",
    "    #def test_add_with_negative_numbers(self):\n",
    "        #self.assertRaises(add(\"-\"), \"negatives not allowed: {}\")\n",
    "        \n",
    "    def test_adding_negative_numbers__returns_exception_message_with_negative_numbers(self):\n",
    "        self.assertRaises(Exception,\"negatives not allowed\")\n",
    "\n",
    "\n",
    "if __name__ == '__main__':\n",
    "  unittest.main(argv=['first-arg-is-ignored'], exit=False)"
   ]
  },
  {
   "cell_type": "markdown",
   "metadata": {},
   "source": [
    "Tests look reasonable, but I could not run them because of problems with string_calculator code"
   ]
  },
  {
   "cell_type": "code",
   "execution_count": null,
   "metadata": {},
   "outputs": [],
   "source": []
  }
 ],
 "metadata": {
  "kernelspec": {
   "display_name": "Python 3",
   "language": "python",
   "name": "python3"
  },
  "language_info": {
   "codemirror_mode": {
    "name": "ipython",
    "version": 3
   },
   "file_extension": ".py",
   "mimetype": "text/x-python",
   "name": "python",
   "nbconvert_exporter": "python",
   "pygments_lexer": "ipython3",
   "version": "3.7.2"
  }
 },
 "nbformat": 4,
 "nbformat_minor": 2
}
