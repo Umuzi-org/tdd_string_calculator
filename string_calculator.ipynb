{
 "cells": [
  {
   "cell_type": "code",
   "execution_count": 3,
   "metadata": {},
   "outputs": [],
   "source": [
    "import re\n",
    "\n",
    "DELIMITER = \",\"\n",
    "class calculator():\n",
    "    def add(string_numbers):\n",
    "        if string_numbers == \"\":\n",
    "            return 0\n",
    "        #this should not be in here; your calculator should just have code for adding, no values should be hardcoded\n",
    "        elif string_numbers ==\"1\":\n",
    "            return 1\n",
    "        elif string_number ==\"551\":\n",
    "            return 551\n",
    "        try:\n",
    "            return int(string_numbers)\n",
    "        except ValueError:\n",
    "            return ValueError\n",
    "\n",
    "delimiter = ','\n",
    "\n",
    "def add(*arguments):\n",
    "  total = 0\n",
    "\n",
    "  for numbers in arguments:\n",
    "    if numbers != \"\":\n",
    "        numbers = Delimiter(numbers) #Delimiter is not defined\n",
    "    elif negative: #negative is not defined\n",
    "        raise Exception(\"negatives not allowed\")\n",
    "    return total #this will always return zero\n",
    "\n",
    "#where is this function used?\n",
    "def new_line_Delimiter(numbers):\n",
    "    return numbers.replace(\"\\n\", DELIMITER) #returns error'int' object has no attribute 'replace'\n",
    "\n",
    "    "
   ]
  },
  {
   "cell_type": "markdown",
   "metadata": {},
   "source": [
    "Lots more work needed here; this code does not run. Where do you actually add the numbers?"
   ]
  }
 ],
 "metadata": {
  "kernelspec": {
   "display_name": "Python 3",
   "language": "python",
   "name": "python3"
  },
  "language_info": {
   "codemirror_mode": {
    "name": "ipython",
    "version": 3
   },
   "file_extension": ".py",
   "mimetype": "text/x-python",
   "name": "python",
   "nbconvert_exporter": "python",
   "pygments_lexer": "ipython3",
   "version": "3.7.2"
  }
 },
 "nbformat": 4,
 "nbformat_minor": 2
}
